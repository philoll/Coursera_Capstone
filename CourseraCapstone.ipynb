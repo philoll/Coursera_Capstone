{
  "nbformat": 4,
  "nbformat_minor": 0,
  "metadata": {
    "colab": {
      "name": "CourseraCapstone.ipynb",
      "provenance": []
    },
    "kernelspec": {
      "name": "python3",
      "display_name": "Python 3"
    }
  },
  "cells": [
    {
      "cell_type": "markdown",
      "metadata": {
        "id": "c_yN43JZ6YIh"
      },
      "source": [
        "# Coursera Capstone Notebook\n",
        "\n",
        "This notebook will be used for the capstone project which investigates location data."
      ]
    },
    {
      "cell_type": "code",
      "metadata": {
        "id": "vqwJjo6d62fu"
      },
      "source": [
        "# Import packages\n",
        "import pandas as pd\n",
        "import numpy as np"
      ],
      "execution_count": 1,
      "outputs": []
    },
    {
      "cell_type": "code",
      "metadata": {
        "colab": {
          "base_uri": "https://localhost:8080/"
        },
        "id": "TgtbJEIx67Q-",
        "outputId": "87034c31-add9-4b22-f6d9-98b150532fe6"
      },
      "source": [
        "print('Hello Capstone Project Course!')"
      ],
      "execution_count": 2,
      "outputs": [
        {
          "output_type": "stream",
          "text": [
            "Hello Capstone Project Course!\n"
          ],
          "name": "stdout"
        }
      ]
    },
    {
      "cell_type": "code",
      "metadata": {
        "id": "g9_KrmZx7AYG"
      },
      "source": [
        ""
      ],
      "execution_count": null,
      "outputs": []
    }
  ]
}