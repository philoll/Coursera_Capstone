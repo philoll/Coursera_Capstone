{
  "nbformat": 4,
  "nbformat_minor": 0,
  "metadata": {
    "colab": {
      "name": "terminal.ipynb",
      "provenance": [],
      "authorship_tag": "ABX9TyNzj5pm11guYT6eJxcL78Qc",
      "include_colab_link": true
    },
    "kernelspec": {
      "name": "python3",
      "display_name": "Python 3"
    }
  },
  "cells": [
    {
      "cell_type": "markdown",
      "metadata": {
        "id": "view-in-github",
        "colab_type": "text"
      },
      "source": [
        "<a href=\"https://colab.research.google.com/github/philoll/Coursera_Capstone/blob/main/terminal.ipynb\" target=\"_parent\"><img src=\"https://colab.research.google.com/assets/colab-badge.svg\" alt=\"Open In Colab\"/></a>"
      ]
    },
    {
      "cell_type": "code",
      "metadata": {
        "colab": {
          "base_uri": "https://localhost:8080/"
        },
        "id": "u3LYIephxEEL",
        "outputId": "4abb684b-bb02-41af-a79f-e9b1c4ffdcde"
      },
      "source": [
        "from google.colab import drive\n",
        "drive.mount('/content/drive')"
      ],
      "execution_count": 1,
      "outputs": [
        {
          "output_type": "stream",
          "text": [
            "Mounted at /content/drive\n"
          ],
          "name": "stdout"
        }
      ]
    },
    {
      "cell_type": "code",
      "metadata": {
        "colab": {
          "base_uri": "https://localhost:8080/"
        },
        "id": "AsGY0MDmxKr0",
        "outputId": "d8301fc9-e3ed-4c79-c019-17423b31f8f2"
      },
      "source": [
        "%cd '/content/drive/MyDrive/Projects/IBM Data Science/09 Applied Data Science Capstone/Coursera_Capstone/'\n",
        "!git pull https://github.com/philoll/Coursera_Capstone/"
      ],
      "execution_count": 2,
      "outputs": [
        {
          "output_type": "stream",
          "text": [
            "/content/drive/MyDrive/Projects/IBM Data Science/09 Applied Data Science Capstone/Coursera_Capstone\n",
            "From https://github.com/philoll/Coursera_Capstone\n",
            " * branch            HEAD       -> FETCH_HEAD\n",
            "Already up to date.\n"
          ],
          "name": "stdout"
        }
      ]
    },
    {
      "cell_type": "code",
      "metadata": {
        "id": "LeN8OrG6xSiT"
      },
      "source": [
        ""
      ],
      "execution_count": null,
      "outputs": []
    }
  ]
}